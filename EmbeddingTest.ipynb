{
 "cells": [
  {
   "cell_type": "code",
   "execution_count": 2,
   "metadata": {},
   "outputs": [
    {
     "name": "stderr",
     "output_type": "stream",
     "text": [
      "c:\\Users\\Andrew\\AppData\\Local\\Programs\\Python\\Python38\\lib\\site-packages\\tqdm\\auto.py:22: TqdmWarning: IProgress not found. Please update jupyter and ipywidgets. See https://ipywidgets.readthedocs.io/en/stable/user_install.html\n",
      "  from .autonotebook import tqdm as notebook_tqdm\n"
     ]
    }
   ],
   "source": [
    "import torch\n",
    "from torch import nn\n",
    "import torch.nn.functional as F\n",
    "from torch.utils.data import Dataset, DataLoader, random_split\n",
    "from torch.nn.utils.rnn import pad_sequence\n",
    "from torch.autograd import Variable\n",
    "import torch.optim as optim\n",
    "import numpy as np\n",
    "import random\n",
    "import math\n",
    "import pickle\n",
    "import matplotlib.pyplot as plt\n",
    "import numpy as np\n",
    "import copy"
   ]
  },
  {
   "cell_type": "code",
   "execution_count": 7,
   "metadata": {},
   "outputs": [],
   "source": [
    "embedding = nn.Embedding(num_embeddings=3000, embedding_dim=32)"
   ]
  },
  {
   "cell_type": "code",
   "execution_count": 16,
   "metadata": {},
   "outputs": [
    {
     "name": "stdout",
     "output_type": "stream",
     "text": [
      "2\n"
     ]
    }
   ],
   "source": [
    "def test(a:int = 2):\n",
    "    print(a)\n",
    "\n",
    "test()"
   ]
  },
  {
   "cell_type": "code",
   "execution_count": 42,
   "metadata": {},
   "outputs": [],
   "source": [
    "import models"
   ]
  },
  {
   "cell_type": "code",
   "execution_count": 45,
   "metadata": {},
   "outputs": [],
   "source": [
    "\n",
    "class missingWordPredictor(nn.Module):\n",
    "    def __init__(\n",
    "        self,\n",
    "        num_embeddings : int,\n",
    "        embedding_dim : int,\n",
    "        \n",
    "        phrase_len : int = 7\n",
    "    ):\n",
    "        \n",
    "        self.num_embeddings = num_embeddings\n",
    "        self.embedding_dim = embedding_dim\n",
    "        self.phrase_len = phrase_len\n",
    "        super(missingWordPredictor, self).__init__()\n",
    "\n",
    "        self.embedding = nn.Embedding(num_embeddings=num_embeddings, embedding_dim=embedding_dim)\n",
    "\n",
    "        self.linear1 = nn.Linear(in_features=(phrase_len-1)*embedding_dim, out_features=100)\n",
    "        self.linear2 = nn.Linear(in_features=100, out_features=100)\n",
    "        self.linear3 = nn.Linear(in_features=100, out_features=embedding_dim)\n",
    "\n",
    "    def forward(self, \n",
    "    X : torch.LongTensor #LongTensor of lookup table indices corresponding to the 7 words in the phrase.\n",
    "    ):\n",
    "        X = torch.cat([X[:,:int((self.phrase_len-1)/2)], X[:,int((self.phrase_len+1)/2):]], dim=1) #Remove the middle item\n",
    "\n",
    "\n",
    "\n",
    "        X = self.embedding(X) #Convert indices into embedding tensors\n",
    "\n",
    "        print(X.shape)\n",
    "\n",
    "        X = self.linear1(X)\n",
    "        X = torch.relu(X)\n",
    "        X = self.linear2(X)\n",
    "        X = torch.relu(X)\n",
    "        X = self.linear3(X)\n",
    "\n",
    "        return X\n",
    "        \n",
    "\n",
    "\n",
    "model = missingWordPredictor(3000, 10)"
   ]
  },
  {
   "cell_type": "code",
   "execution_count": 7,
   "metadata": {},
   "outputs": [],
   "source": [
    "t = torch.rand(2,4,4)"
   ]
  },
  {
   "cell_type": "code",
   "execution_count": 8,
   "metadata": {},
   "outputs": [
    {
     "data": {
      "text/plain": [
       "tensor([[[0.9264, 0.6551, 0.6626, 0.2545],\n",
       "         [0.1405, 0.9667, 0.0270, 0.8462],\n",
       "         [0.3715, 0.8983, 0.1324, 0.7176],\n",
       "         [0.9019, 0.8360, 0.0359, 0.9725]],\n",
       "\n",
       "        [[0.1654, 0.8290, 0.7815, 0.5353],\n",
       "         [0.7525, 0.6947, 0.0240, 0.5668],\n",
       "         [0.2977, 0.7322, 0.6660, 0.6194],\n",
       "         [0.6403, 0.9290, 0.1911, 0.7290]]])"
      ]
     },
     "execution_count": 8,
     "metadata": {},
     "output_type": "execute_result"
    }
   ],
   "source": [
    "t"
   ]
  },
  {
   "cell_type": "code",
   "execution_count": 29,
   "metadata": {},
   "outputs": [],
   "source": [
    "import string\n",
    "text_bible = []\n",
    "with open('data/bible.txt','r') as f:\n",
    "    for line in f:\n",
    "        for word in line.split():\n",
    "            text_bible.append(word.translate(str.maketrans('','', string.punctuation)).lower())           \n",
    "\n",
    "   \n"
   ]
  },
  {
   "cell_type": "code",
   "execution_count": 32,
   "metadata": {},
   "outputs": [],
   "source": [
    "embedding = nn.Embedding(3000,10)"
   ]
  },
  {
   "cell_type": "code",
   "execution_count": 33,
   "metadata": {},
   "outputs": [],
   "source": [
    "torch.save(embedding.state_dict(), \"embedding_weights.pt\")"
   ]
  },
  {
   "cell_type": "code",
   "execution_count": 39,
   "metadata": {},
   "outputs": [
    {
     "data": {
      "text/plain": [
       "<All keys matched successfully>"
      ]
     },
     "execution_count": 39,
     "metadata": {},
     "output_type": "execute_result"
    }
   ],
   "source": [
    "embedding2 = nn.Embedding(3000,10)\n",
    "embedding2.load_state_dict(torch.load(\"trained_embedding_weights.pt\"))"
   ]
  },
  {
   "cell_type": "code",
   "execution_count": null,
   "metadata": {},
   "outputs": [],
   "source": []
  },
  {
   "cell_type": "code",
   "execution_count": 37,
   "metadata": {},
   "outputs": [],
   "source": [
    "with open('bible_lookup_table.pkl', 'rb') as f:\n",
    "    lt = pickle.load(f)"
   ]
  },
  {
   "cell_type": "code",
   "execution_count": 46,
   "metadata": {},
   "outputs": [],
   "source": [
    "def get_embedding(word):\n",
    "    return embedding2(torch.LongTensor([lt[word]]))"
   ]
  },
  {
   "cell_type": "code",
   "execution_count": 48,
   "metadata": {},
   "outputs": [],
   "source": [
    "one = get_embedding('one')\n",
    "two = get_embedding('two')\n",
    "three = get_embedding('three')"
   ]
  },
  {
   "cell_type": "code",
   "execution_count": 49,
   "metadata": {},
   "outputs": [
    {
     "data": {
      "text/plain": [
       "tensor([[-0.0386, -0.0136, -0.0164, -0.0318,  0.0185, -0.0220,  0.0101,  0.0049,\n",
       "          0.0098, -0.0225]], grad_fn=<SubBackward0>)"
      ]
     },
     "execution_count": 49,
     "metadata": {},
     "output_type": "execute_result"
    }
   ],
   "source": [
    "one + two - three"
   ]
  }
 ],
 "metadata": {
  "kernelspec": {
   "display_name": "Python 3",
   "language": "python",
   "name": "python3"
  },
  "language_info": {
   "codemirror_mode": {
    "name": "ipython",
    "version": 3
   },
   "file_extension": ".py",
   "mimetype": "text/x-python",
   "name": "python",
   "nbconvert_exporter": "python",
   "pygments_lexer": "ipython3",
   "version": "3.8.7"
  },
  "orig_nbformat": 4,
  "vscode": {
   "interpreter": {
    "hash": "92db8e5cc7bdb638ff0846ba6daf6443eed122bdb088bfa52b1256def5080051"
   }
  }
 },
 "nbformat": 4,
 "nbformat_minor": 2
}
